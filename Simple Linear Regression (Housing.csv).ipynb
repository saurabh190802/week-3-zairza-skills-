{
 "cells": [
  {
   "cell_type": "markdown",
   "id": "84074b8d",
   "metadata": {},
   "source": [
    "# <a href=\"https://colab.research.google.com/drive/1ytY1n4b4z0wYVWMHDmI9aAjxhmI59LG-?usp=sharing\">Click Here</a> to open this file on Google Colab"
   ]
  },
  {
   "cell_type": "markdown",
   "id": "56fd232f",
   "metadata": {},
   "source": [
    "# Importing Libraries"
   ]
  },
  {
   "cell_type": "code",
   "execution_count": 1,
   "id": "bda6fd38",
   "metadata": {},
   "outputs": [],
   "source": [
    "from sklearn.model_selection import train_test_split\n",
    "from sklearn.linear_model import LinearRegression \n",
    "from sklearn.metrics import mean_squared_error\n",
    "import matplotlib.pyplot as plt\n",
    "import pandas as pd\n",
    "import numpy as np"
   ]
  },
  {
   "cell_type": "markdown",
   "id": "b7b2c8ff",
   "metadata": {},
   "source": [
    "# Loading & Describing The Data"
   ]
  },
  {
   "cell_type": "code",
   "execution_count": 2,
   "id": "ae74b858",
   "metadata": {},
   "outputs": [],
   "source": [
    "housing = pd.read_csv('housing.csv')"
   ]
  },
  {
   "cell_type": "code",
   "execution_count": 3,
   "id": "0a75484e",
   "metadata": {},
   "outputs": [
    {
     "data": {
      "text/plain": [
       "(5000, 7)"
      ]
     },
     "execution_count": 3,
     "metadata": {},
     "output_type": "execute_result"
    }
   ],
   "source": [
    "housing.shape"
   ]
  },
  {
   "cell_type": "markdown",
   "id": "b787bd58",
   "metadata": {},
   "source": [
    "This represents 7 columns and 20640 rows."
   ]
  },
  {
   "cell_type": "code",
   "execution_count": 4,
   "id": "965a0feb",
   "metadata": {},
   "outputs": [
    {
     "data": {
      "text/html": [
       "<div>\n",
       "<style scoped>\n",
       "    .dataframe tbody tr th:only-of-type {\n",
       "        vertical-align: middle;\n",
       "    }\n",
       "\n",
       "    .dataframe tbody tr th {\n",
       "        vertical-align: top;\n",
       "    }\n",
       "\n",
       "    .dataframe thead th {\n",
       "        text-align: right;\n",
       "    }\n",
       "</style>\n",
       "<table border=\"1\" class=\"dataframe\">\n",
       "  <thead>\n",
       "    <tr style=\"text-align: right;\">\n",
       "      <th></th>\n",
       "      <th>Avg. Area Income</th>\n",
       "      <th>Avg. Area House Age</th>\n",
       "      <th>Avg. Area Number of Rooms</th>\n",
       "      <th>Avg. Area Number of Bedrooms</th>\n",
       "      <th>Area Population</th>\n",
       "      <th>Price</th>\n",
       "      <th>Address</th>\n",
       "    </tr>\n",
       "  </thead>\n",
       "  <tbody>\n",
       "    <tr>\n",
       "      <th>0</th>\n",
       "      <td>79545.458574</td>\n",
       "      <td>5.682861</td>\n",
       "      <td>7.009188</td>\n",
       "      <td>4.09</td>\n",
       "      <td>23086.800503</td>\n",
       "      <td>1.059034e+06</td>\n",
       "      <td>208 Michael Ferry Apt. 674\\nLaurabury, NE 3701...</td>\n",
       "    </tr>\n",
       "    <tr>\n",
       "      <th>1</th>\n",
       "      <td>79248.642455</td>\n",
       "      <td>6.002900</td>\n",
       "      <td>6.730821</td>\n",
       "      <td>3.09</td>\n",
       "      <td>40173.072174</td>\n",
       "      <td>1.505891e+06</td>\n",
       "      <td>188 Johnson Views Suite 079\\nLake Kathleen, CA...</td>\n",
       "    </tr>\n",
       "    <tr>\n",
       "      <th>2</th>\n",
       "      <td>61287.067179</td>\n",
       "      <td>5.865890</td>\n",
       "      <td>8.512727</td>\n",
       "      <td>5.13</td>\n",
       "      <td>36882.159400</td>\n",
       "      <td>1.058988e+06</td>\n",
       "      <td>9127 Elizabeth Stravenue\\nDanieltown, WI 06482...</td>\n",
       "    </tr>\n",
       "    <tr>\n",
       "      <th>3</th>\n",
       "      <td>63345.240046</td>\n",
       "      <td>7.188236</td>\n",
       "      <td>5.586729</td>\n",
       "      <td>3.26</td>\n",
       "      <td>34310.242831</td>\n",
       "      <td>1.260617e+06</td>\n",
       "      <td>USS Barnett\\nFPO AP 44820</td>\n",
       "    </tr>\n",
       "    <tr>\n",
       "      <th>4</th>\n",
       "      <td>59982.197226</td>\n",
       "      <td>5.040555</td>\n",
       "      <td>7.839388</td>\n",
       "      <td>4.23</td>\n",
       "      <td>26354.109472</td>\n",
       "      <td>6.309435e+05</td>\n",
       "      <td>USNS Raymond\\nFPO AE 09386</td>\n",
       "    </tr>\n",
       "  </tbody>\n",
       "</table>\n",
       "</div>"
      ],
      "text/plain": [
       "   Avg. Area Income  Avg. Area House Age  Avg. Area Number of Rooms  \\\n",
       "0      79545.458574             5.682861                   7.009188   \n",
       "1      79248.642455             6.002900                   6.730821   \n",
       "2      61287.067179             5.865890                   8.512727   \n",
       "3      63345.240046             7.188236                   5.586729   \n",
       "4      59982.197226             5.040555                   7.839388   \n",
       "\n",
       "   Avg. Area Number of Bedrooms  Area Population         Price  \\\n",
       "0                          4.09     23086.800503  1.059034e+06   \n",
       "1                          3.09     40173.072174  1.505891e+06   \n",
       "2                          5.13     36882.159400  1.058988e+06   \n",
       "3                          3.26     34310.242831  1.260617e+06   \n",
       "4                          4.23     26354.109472  6.309435e+05   \n",
       "\n",
       "                                             Address  \n",
       "0  208 Michael Ferry Apt. 674\\nLaurabury, NE 3701...  \n",
       "1  188 Johnson Views Suite 079\\nLake Kathleen, CA...  \n",
       "2  9127 Elizabeth Stravenue\\nDanieltown, WI 06482...  \n",
       "3                          USS Barnett\\nFPO AP 44820  \n",
       "4                         USNS Raymond\\nFPO AE 09386  "
      ]
     },
     "execution_count": 4,
     "metadata": {},
     "output_type": "execute_result"
    }
   ],
   "source": [
    "housing.head() #printing the top 5 (0–4) rows"
   ]
  },
  {
   "cell_type": "code",
   "execution_count": 5,
   "id": "550e84be",
   "metadata": {},
   "outputs": [
    {
     "data": {
      "text/plain": [
       "<AxesSubplot:xlabel='Avg. Area Income'>"
      ]
     },
     "execution_count": 5,
     "metadata": {},
     "output_type": "execute_result"
    },
    {
     "data": {
      "image/png": "[encoded data removed]",
      "text/plain": [
       "<Figure size 432x288 with 1 Axes>"
      ]
     },
     "metadata": {
      "needs_background": "light"
     },
     "output_type": "display_data"
    }
   ],
   "source": [
    "housing.plot(\"Avg. Area Income\", \"Price\")"
   ]
  },
  {
   "cell_type": "markdown",
   "id": "9392a84f",
   "metadata": {},
   "source": [
    "As can be seen, the graph is difficult to understand. There are various lines making it difficult to see individual trends. So, to remedy this, we should use a scatter plot without individual lines."
   ]
  },
  {
   "cell_type": "code",
   "execution_count": 6,
   "id": "b4c5e4f2",
   "metadata": {},
   "outputs": [
    {
     "data": {
      "text/plain": [
       "<AxesSubplot:xlabel='Avg. Area Income', ylabel='Price'>"
      ]
     },
     "execution_count": 6,
     "metadata": {},
     "output_type": "execute_result"
    },
    {
     "data": {
      "image/png": "[encoded data removed]",
      "text/plain": [
       "<Figure size 432x288 with 1 Axes>"
      ]
     },
     "metadata": {
      "needs_background": "light"
     },
     "output_type": "display_data"
    }
   ],
   "source": [
    "housing.plot.scatter(\"Avg. Area Income\", \"Price\")"
   ]
  },
  {
   "cell_type": "markdown",
   "id": "265703d5",
   "metadata": {},
   "source": [
    "As can be seen, the correlation is significantly more apparent because there are no longer random lines to distract.\n",
    "Now, it is time to actually start to analyze the data. We can start this off by running a particular directive."
   ]
  },
  {
   "cell_type": "code",
   "execution_count": 7,
   "id": "9551e31e",
   "metadata": {},
   "outputs": [],
   "source": [
    "# changing column name beacuse i am getting some error beacuse of periods in column names\n",
    "housing = housing.rename(columns={\"Avg. Area Income\":\"median_income\"})"
   ]
  },
  {
   "cell_type": "markdown",
   "id": "9fc491d6",
   "metadata": {},
   "source": [
    "# spliting up the data as “train” and “test.”"
   ]
  },
  {
   "cell_type": "code",
   "execution_count": 8,
   "id": "42c9249e",
   "metadata": {},
   "outputs": [],
   "source": [
    "x_train, x_test, y_train, y_test = train_test_split(housing.median_income, housing.Price, test_size = 0.2)"
   ]
  },
  {
   "cell_type": "markdown",
   "id": "422330ae",
   "metadata": {},
   "source": [
    "The overall data will be split up into 80% as train and 20% as test. The “y-values” will be the “median_house_value,” and the “x-values” will be the “median_income.”"
   ]
  },
  {
   "cell_type": "markdown",
   "id": "83400639",
   "metadata": {},
   "source": [
    "# Linear Regression"
   ]
  },
  {
   "cell_type": "code",
   "execution_count": 9,
   "id": "7cd2aae9",
   "metadata": {},
   "outputs": [],
   "source": [
    "regr = LinearRegression()\n",
    "#This will call LinearRegression(), and then allow us to use our own data to predict."
   ]
  },
  {
   "cell_type": "code",
   "execution_count": 10,
   "id": "ea7ec507",
   "metadata": {},
   "outputs": [
    {
     "data": {
      "text/plain": [
       "LinearRegression()"
      ]
     },
     "execution_count": 10,
     "metadata": {},
     "output_type": "execute_result"
    }
   ],
   "source": [
    "regr.fit(np.array(x_train).reshape(-1,1), y_train)\n",
    "#This will shape the model using one predictor. Reshape is being applied to change it from pandas to NumPy, and finally into a vector. (Reshape transverses it from a single dimension matrix to a vertical shape.)\n",
    "#Then, we need to pass in the data to give predictions."
   ]
  },
  {
   "cell_type": "code",
   "execution_count": 11,
   "id": "92167f55",
   "metadata": {},
   "outputs": [],
   "source": [
    "preds = regr.predict(np.array(x_test).reshape(-1,1))\n",
    "#We can compare our predictions with the actual values."
   ]
  },
  {
   "cell_type": "code",
   "execution_count": 12,
   "id": "34924406",
   "metadata": {},
   "outputs": [
    {
     "data": {
      "text/plain": [
       "4059    1.144319e+06\n",
       "3943    1.622262e+06\n",
       "1667    1.450394e+06\n",
       "1818    8.496569e+05\n",
       "641     1.175869e+06\n",
       "Name: Price, dtype: float64"
      ]
     },
     "execution_count": 12,
     "metadata": {},
     "output_type": "execute_result"
    }
   ],
   "source": [
    "y_test.head()"
   ]
  },
  {
   "cell_type": "code",
   "execution_count": 13,
   "id": "86b695b8",
   "metadata": {},
   "outputs": [
    {
     "data": {
      "text/plain": [
       "array([1246976.81085857, 1434395.61921264, 1315419.08968227,\n",
       "       1088684.59782243, 1297262.06087782, 1199765.52580571,\n",
       "       1390274.12123695, 1150511.09063525, 1155878.86669594,\n",
       "       1251756.55490645,  935256.4160059 , 1176587.61631308,\n",
       "       1585085.59746536, 1022707.98212325,  694779.67800646,\n",
       "       1211547.35520645, 1322563.77817113,  942719.95152113,\n",
       "       1412906.54780624, 1392404.44540921, 1163362.6884565 ,\n",
       "       1322984.64640839, 1342778.1563494 , 1290787.05178817,\n",
       "       1648836.28979527,  944754.56913304, 1405743.5051086 ,\n",
       "        681712.4324883 ,  960996.17651041, 1344364.93192075,\n",
       "       1409073.69527234, 1067232.39280586, 1319615.21170183,\n",
       "       1046751.27298454, 1454336.67502335, 1186776.86386024,\n",
       "        705861.47748193, 1332042.74147251, 1150132.25783976,\n",
       "        976758.75072066,  931674.06814713, 1096416.29051527,\n",
       "       1035190.65098742, 1380756.53070421, 1432446.3821792 ,\n",
       "       1287391.76515857, 1411999.88411601, 1194427.61785197,\n",
       "       1369216.63758454,  944086.1426831 , 1063425.93104242,\n",
       "       1199222.10333677, 1239893.37815856, 1307414.04040246,\n",
       "        903913.57929147, 1146831.86723528, 1425709.53040383,\n",
       "       1402147.34943447, 1092274.35103666, 1200910.5142795 ,\n",
       "       1435501.57801119, 1025693.96093774, 1291047.30634546,\n",
       "       1271408.47073203, 1021772.27780794, 1631921.17934555,\n",
       "       1097518.08414636, 1274972.54087847, 1472907.88893367,\n",
       "       1218078.49966961, 1327993.95272679, 1184669.31147548,\n",
       "       1277661.88687045, 1220578.07317592, 1179775.10122129,\n",
       "       1466450.16126195, 1274043.40459387, 1407252.02554392,\n",
       "       1286374.09379088, 1028082.99849042, 1028302.9420621 ,\n",
       "       1159692.5892646 , 1253674.78983516, 1474448.93439756,\n",
       "       1337154.13070333, 1133159.30176283, 1214418.4621256 ,\n",
       "       1262977.51742276, 1437624.19649667, 1101795.05723219,\n",
       "       1230404.10201489, 1269438.10089074, 1386125.19972466,\n",
       "       1151159.77445723, 1237436.04548931, 1375768.88731718,\n",
       "       1419729.57784081, 1018956.55737967, 1550283.77748567,\n",
       "       1468561.46147385, 1509099.54814503, 1479275.73819074,\n",
       "        957842.12902345, 1116861.16495391, 1334183.92955894,\n",
       "       1432334.11298102, 1261355.32226736, 1620237.58424233,\n",
       "       1025245.78567062, 1166037.0966676 , 1501908.63288486,\n",
       "       1335253.82064226, 1109608.78466114,  902873.53982145,\n",
       "        700505.38911315, 1225101.59560852, 1484449.15771881,\n",
       "       1346088.7156138 ,  982125.48960212, 1056388.09308598,\n",
       "       1086510.22203323, 1127355.54900782, 1162568.11685469,\n",
       "        992201.83613937,  782233.70165938, 1080637.05238194,\n",
       "        912799.38314602, 1263867.7552594 , 1677042.44199051,\n",
       "       1233187.54946226, 1122750.84280032, 1206546.78868491,\n",
       "       1001041.01397624, 1332591.46977742, 1137880.91654853,\n",
       "       1481202.54055472, 1223179.74686701,  874358.77620245,\n",
       "       1254954.93343074, 1631031.23277757, 1388958.61000181,\n",
       "       1192116.09281416, 1080127.33008323, 1188462.67216853,\n",
       "       1326001.65455601,  775728.10522018, 1387497.32688947,\n",
       "       1364839.33619023, 1349012.71756944, 1310689.51650366,\n",
       "        984813.97926827, 1130923.24798432, 1198955.85378374,\n",
       "       1261957.75158618, 1345021.72397866,  728577.9281087 ,\n",
       "       1406833.4540594 , 1349361.11035342, 1103773.01417393,\n",
       "       1014627.08921449,  982519.17409686, 1091531.98253222,\n",
       "        982859.52334331, 1420117.59469418, 1294629.25155371,\n",
       "       1346175.44884496, 1120335.17227965, 1470077.18765518,\n",
       "       1054088.58426138, 1286892.22397961,  877677.77787961,\n",
       "       1408220.01190232, 1209475.46702618, 1411633.55526422,\n",
       "       1396377.71818599, 1064703.93532489, 1363559.03114044,\n",
       "       1152716.58916407, 1814327.40005046, 1767576.19200616,\n",
       "       1455682.76065757, 1157092.63255278,  893049.32785445,\n",
       "       1403944.87608745, 1534750.81539201, 1203183.21761147,\n",
       "       1559863.59221852, 1342078.48222328, 1438407.69624881,\n",
       "       1098780.95474319, 1332539.6372259 , 1473374.89294298,\n",
       "       1252474.97742255, 1228691.24559253, 1333151.76426648,\n",
       "       1071866.52971558, 1156213.11220091, 1664450.79217189,\n",
       "       1531747.92602077, 1110152.79789771, 1809716.8752355 ,\n",
       "        937153.884822  , 1074848.73439672,  811571.11704599,\n",
       "       1196678.67496399, 1566973.64592116, 1359523.73372775,\n",
       "       1536780.61970474,  879219.27274783, 1217290.5688841 ,\n",
       "       1354978.6395491 , 1588337.08712992, 1210628.6989882 ,\n",
       "       1058855.05152695, 1349340.13076527, 1368957.5081346 ,\n",
       "       1287993.04129523, 1047722.25906339, 1473685.76584771,\n",
       "       1595895.35135517, 1364579.63183576, 1159829.34274196,\n",
       "       1312098.43067753, 1051609.94243281, 1112145.55818774,\n",
       "       1087206.3756915 ,  977123.44222272, 1072040.31614529,\n",
       "       1310204.09274055, 1146332.46287027, 1333448.68694351,\n",
       "        991838.48964116, 1059109.39961002,  888601.82751963,\n",
       "       1133552.85473115, 1384764.9711957 , 1177958.71160092,\n",
       "       1163850.54933132, 1142295.7046314 , 1203410.06958539,\n",
       "       1173529.47174219, 1359385.61622983, 1120840.71357111,\n",
       "       1224483.13372654, 1193530.68644668, 1192435.1260509 ,\n",
       "       1235868.33499047, 1102436.53691782, 1232862.72106499,\n",
       "       1319082.87818488, 1497744.00325017,  920852.53464004,\n",
       "        684108.01054963, 1389426.9626622 , 1351582.10699128,\n",
       "       1176352.20808555, 1237979.47812103, 1088293.81647159,\n",
       "       1034149.63586503, 1237576.5046857 , 1109990.53089292,\n",
       "       1276029.13820617, 1351800.02257306, 1105117.22499991,\n",
       "       1078037.83487359, 1280854.23245343, 1293448.85121291,\n",
       "       1180751.28687787, 1782687.51184459, 1383552.84100115,\n",
       "       1266336.07821851, 1411484.72901633, 1679589.54273759,\n",
       "       1075798.35294112, 1263761.97054847, 1539584.41668839,\n",
       "        960979.1709682 , 1340038.69571384, 1181368.81563543,\n",
       "        996669.84509962, 1007408.71470462, 1132400.4611034 ,\n",
       "       1749395.94168414, 1069777.70653036,  959449.59628314,\n",
       "       1095346.74738264, 1175773.32598142, 1155499.53225714,\n",
       "       1175577.99954094, 1324394.44068349, 1431999.30423896,\n",
       "       1215430.06362201, 1185751.73701352, 1535552.48790305,\n",
       "       1707122.32580274, 1390440.5752835 , 1526223.06864899,\n",
       "       1270748.87545191, 1377368.33404187, 1300488.22117116,\n",
       "       1330647.06005607,  972679.28784107, 1160978.77444236,\n",
       "       1582169.68820941, 1051017.14090281,  749061.96871762,\n",
       "       1105433.90573019, 1055737.8033157 , 1330912.87416608,\n",
       "       1327174.27773558, 1175159.24305491, 1341407.6841989 ,\n",
       "       1258929.87735796, 1322265.8554416 , 1166876.20098533,\n",
       "       1109822.9536033 , 1226480.35714844, 1004484.36747658,\n",
       "       1340017.9496485 , 1452492.08977947, 1031206.04055397,\n",
       "       1123185.19528783, 1038179.12741395,  758286.26532315,\n",
       "       1253216.72904682, 1144020.06457046, 1273045.10827633,\n",
       "       1322749.61276726, 1447028.57622262, 1322083.87953833,\n",
       "       1383379.13682305, 1280290.599131  , 1747373.72952514,\n",
       "       1627523.50611987, 1320980.75464157, 1169885.15133913,\n",
       "       1294666.54275074, 1199279.22832104, 1635966.67728025,\n",
       "       1224889.97392155, 1038041.42209821, 1319526.83347949,\n",
       "        895404.30576472, 1321810.45819084, 1447950.56298876,\n",
       "        920645.0600969 , 1099370.09338954, 1401204.4568835 ,\n",
       "       1349354.82438048,  771561.9641086 ,  941494.02449272,\n",
       "       1198344.31357757, 1542415.85918909, 1032887.12372622,\n",
       "        902312.35677607, 1268747.64340876, 1329518.32738757,\n",
       "        952981.54425846, 1070650.58141765,  664573.55683022,\n",
       "       1355044.69320036, 1396935.15344128, 1068716.55929342,\n",
       "        982465.69491644, 1189196.7501192 , 1023067.70059606,\n",
       "        972140.67563828, 1385924.27218201, 1379750.24382706,\n",
       "       1222618.44491291, 1793207.65871355, 1152123.02032635,\n",
       "       1221081.55408073, 1156137.84810216, 1362510.37148734,\n",
       "        780887.13066475, 1014151.00841336, 1340995.95826433,\n",
       "        860383.36233905, 1453693.38160671,  952439.78246862,\n",
       "       1349218.59898143, 1533482.9941166 , 1062472.14011872,\n",
       "       1291020.28609336, 1712889.43763389, 1693991.3269833 ,\n",
       "       1273392.04101471, 1563553.64673279, 1050071.3930546 ,\n",
       "        991404.90104051,  888944.13739567, 1105929.96093463,\n",
       "       1279155.75708309, 1553293.75968658, 1033548.40025228,\n",
       "        881414.57095316, 1664957.39426719, 1050849.44516964,\n",
       "       1626136.81519347, 1461637.26579297, 1407261.2360696 ,\n",
       "       1440376.43951425, 1222237.34400759, 1394412.89797765,\n",
       "       1036035.05376115,  976072.58444855, 1185322.55410136,\n",
       "       1478761.96803984, 1102986.73921437, 1487340.77555671,\n",
       "       1359492.91291967, 1145531.9947553 , 1267683.36849003,\n",
       "       1230060.74174972,  867366.75065888, 1355848.90955904,\n",
       "       1236561.90059947, 1202347.95446387, 1548775.00401738,\n",
       "        963973.39912536, 1419054.80358285, 1308799.67572933,\n",
       "       1443571.34548952, 1047912.32474197, 1276122.6981702 ,\n",
       "       1294368.33643283, 1367406.75648956, 1160625.35802858,\n",
       "        829816.24566328, 1290623.80477847, 1362979.19630678,\n",
       "        947159.25030903, 1218596.2932711 , 1536223.96816028,\n",
       "       1245857.28263986, 1172649.23451857, 1393920.36701281,\n",
       "        856603.80650608, 1417311.03085166,  750795.28448391,\n",
       "       1465366.30550825,  939754.57916171,  826196.62449794,\n",
       "        931625.45268462, 1389088.94881345, 1421928.63544087,\n",
       "       1233648.71470195, 1225496.01897425, 1433162.88036066,\n",
       "       1229468.82252524, 1634001.49561946, 1429174.08537976,\n",
       "       1763978.92233206,  887231.71713286, 1371318.24337291,\n",
       "       1519060.26720592, 1494943.68352393, 1008142.80430341,\n",
       "       1416142.23770897, 1022754.84229003, 1291121.95287132,\n",
       "       1540661.70622247, 1268372.75913657,  923018.24894903,\n",
       "       1113700.35079168, 1493816.5032681 , 1017560.30788532,\n",
       "       1038632.48893572, 1357522.10030237, 1186554.07549725,\n",
       "       1368736.73438151, 1336230.42044579,  766096.36486594,\n",
       "       1262480.36436312,  842706.56938902, 1434678.50405962,\n",
       "       1018940.47102396, 1087353.94222215, 1612984.59129957,\n",
       "       1256812.3960198 , 1188787.20963767, 1465627.03475721,\n",
       "        984382.35562414, 1356782.06341492, 1419422.0423693 ,\n",
       "        778080.70807139, 1633953.55656289, 1332682.66510238,\n",
       "       1320970.99759647, 1728852.94393584,  861254.48852789,\n",
       "       1278730.45262465, 1361754.73884233, 1386431.98068548,\n",
       "       1479365.39938932, 1504158.25357509, 1431351.31961392,\n",
       "       1100590.28606027, 1392825.68699589, 1390766.41312665,\n",
       "       1181757.0666405 , 1449101.14868303, 1068881.23140952,\n",
       "       1220478.09980575, 1079541.68899561, 1418954.54316632,\n",
       "       1217492.45951902,  782063.6438745 ,  691527.75008288,\n",
       "       1342788.55036721,  962788.42290314, 1025924.04927927,\n",
       "       1606031.23810986,  992343.57197233, 1234000.33724178,\n",
       "       1638489.43008342, 1084955.36383326, 1266281.10347523,\n",
       "       1053213.10860957, 1842319.74669386,  867739.89559749,\n",
       "       1116265.14942936, 1450935.11002518,  986661.88594147,\n",
       "       1152816.87982288,  994553.32868535, 1059704.05252188,\n",
       "       1083938.98323793, 1459789.37797685,  939696.1138581 ,\n",
       "       1175972.1487265 , 1470725.16590977,  731814.9451591 ,\n",
       "       1361550.25726127, 1227482.17138338, 1216897.02622336,\n",
       "       1291462.00762982, 1321558.33981138, 1385997.86540858,\n",
       "       1400778.10185562, 1569208.45979025, 1093706.51298563,\n",
       "       1185740.30624581,  864168.17561267, 1444032.33180972,\n",
       "        843460.34771393, 1178672.52293075, 1064482.25414793,\n",
       "       1023276.68225769, 1238235.60213455, 1513278.66324294,\n",
       "       1524140.56595057, 1128917.89679486,  973948.02374367,\n",
       "       1015630.16367548, 1418985.51789557, 1198128.96454105,\n",
       "       1239789.83969001, 1010219.21286743, 1602816.1454329 ,\n",
       "       1267078.3733623 , 1496286.73312046, 1437383.40895365,\n",
       "       1506380.14228338,  916074.82261764, 1283936.54896149,\n",
       "        884493.97330694, 1275596.86662163, 1724356.47108371,\n",
       "       1408382.43766164, 1517087.82184287, 1064527.69108789,\n",
       "       1386996.96937955, 1388845.79011286,  909074.58422011,\n",
       "        962487.04012359, 1533458.96766689, 1523599.57951344,\n",
       "        918283.06331336, 1632134.55081122, 1048711.27697882,\n",
       "       1178725.52873932, 1074163.96156498, 1274722.26333274,\n",
       "       1432929.26153798, 1107856.09007063, 1190305.85516551,\n",
       "       1318401.54211352,  992702.36980256, 1200429.16602118,\n",
       "       1307632.77744138, 1497274.48353341,  884553.67641228,\n",
       "       1206663.6568945 , 1191526.76811447, 1227611.95008707,\n",
       "       1029623.90547241, 1267169.49517738,  963140.54126703,\n",
       "        809338.73365724, 1239011.19893853, 1324756.26845883,\n",
       "       1280984.47240316, 1493293.25174271, 1520700.8176737 ,\n",
       "       1129701.85301472, 1065992.16409543, 1313889.87374083,\n",
       "       1209730.23506532, 1514312.98063277, 1335070.98893912,\n",
       "        982717.69625364, 1682496.76398637, 1330889.24173921,\n",
       "       1179169.60016667, 1443259.84188063,  912623.99831471,\n",
       "       1037309.34726586, 1092123.82757809, 1378218.15469803,\n",
       "       1333217.63167873, 1604767.67060919, 1326055.09071659,\n",
       "        857510.14873398, 1170158.92571444,  979286.85069885,\n",
       "       1176163.6459714 , 1041640.67193757, 1415643.12923757,\n",
       "       1654469.21747689,  871855.6044509 , 1464644.87980674,\n",
       "       1134142.13701046, 1302160.69457341, 1425012.81091166,\n",
       "       1350704.66046555,  991766.56345788, 1284722.29025456,\n",
       "       1185206.89801978, 1350842.13759748, 1060124.67566298,\n",
       "       1324480.40867075, 1256304.74113415, 1343839.44243513,\n",
       "       1495329.24768018, 1427345.11709501, 1240000.5179134 ,\n",
       "       1160546.5928306 , 1533251.02008118, 1493610.05629879,\n",
       "       1369183.03895747, 1508445.85539882, 1027179.88158967,\n",
       "       1136291.7920833 , 1287341.64517131, 1259746.02684839,\n",
       "       1208340.10707065,  730920.39720049, 1260287.54782786,\n",
       "       1069632.62669364, 1267429.82678566, 1416164.66407868,\n",
       "       1484607.50731015, 1063564.74694086, 1115339.31885144,\n",
       "        861138.23032475, 1493115.05479688, 1105820.50407878,\n",
       "       1016614.42040592, 1263735.63773925, 1726773.12962905,\n",
       "       1208374.55428531,  931003.66934428, 1193033.49827455,\n",
       "        839465.71541502, 1367003.44940543, 1269552.52060588,\n",
       "        887963.10244612, 1359131.81557501, 1006216.83306073,\n",
       "       1222324.42401054, 1248959.78985216, 1558230.08243075,\n",
       "       1286343.68088517,  949322.31596651,  839719.95690872,\n",
       "       1302389.52443394, 1144707.632094  , 1286492.09392894,\n",
       "       1144316.69710089,  991397.52183768,  918179.94714324,\n",
       "       1278232.68465191, 1198338.5283587 , 1482137.87032567,\n",
       "       1126435.62544536, 1485505.86684953, 1041661.524554  ,\n",
       "       1638346.02433999, 1145406.73311634,  902903.42092819,\n",
       "       1482237.06698264, 1423402.03949509, 1206009.33422132,\n",
       "        759813.35395059, 1524346.6363243 , 1031152.40261036,\n",
       "       1171161.27333222, 1578453.61619223, 1273341.72189828,\n",
       "        712139.29219412,  809097.50822414, 1504683.02337561,\n",
       "       1123123.19995073, 1473287.57134544, 1330771.68973116,\n",
       "       1083578.66784042, 1003027.62333459, 1432583.15711551,\n",
       "       1376531.6268486 , 1310716.294019  , 1336495.83632145,\n",
       "        996418.67547541, 1358731.14407314, 1495032.59996637,\n",
       "       1251302.86388641, 1167737.22350504,  874546.31789813,\n",
       "       1281009.68385409, 1256578.76953649, 1388307.10598253,\n",
       "        885028.46787458, 1216334.32941219, 1444637.52513761,\n",
       "       1135093.50584881, 1186299.45449394,  989496.90193213,\n",
       "       1720011.49052934, 1298370.56328121, 1422784.29414962,\n",
       "       1148389.976107  , 1439855.70815871, 1500516.76431739,\n",
       "       1028596.94934578,  775322.10259344, 1263227.5161656 ,\n",
       "       1213439.00547601, 1039451.94032799, 1202739.03483976,\n",
       "       1556130.71298968, 1011640.1321587 , 1241534.50424337,\n",
       "       1099313.5909038 , 1289026.99831075, 1209040.54460241,\n",
       "       1131843.71112551, 1530420.00482592, 1146652.78257946,\n",
       "       1316002.6684229 , 1750596.33603077, 1449475.05073016,\n",
       "       1463947.63263394,  951068.51084157, 1298886.41133484,\n",
       "        936308.70849142, 1523256.57370045,  712244.09210322,\n",
       "       1247060.65083139, 1773859.93531528, 1301662.43731685,\n",
       "       1134157.62611581, 1304030.77230123, 1064976.78095848,\n",
       "       1083061.90658287, 1167046.04190629, 1292034.43039616,\n",
       "       1187598.03429362,  933870.33399622, 1079872.70486515,\n",
       "       1523431.93266266, 1030678.87883986, 1398157.50955451,\n",
       "       1273747.99061493, 1151832.4733083 , 1239681.82116838,\n",
       "       1329244.79834682, 1171471.52605452, 1189180.01287824,\n",
       "       1394909.0953613 , 1114066.00576704, 1141027.98059183,\n",
       "       1429421.33426765, 1474239.7387551 , 1386461.20234451,\n",
       "       1046449.31329871, 1239376.12748294, 1068441.88522949,\n",
       "       1138010.4579692 , 1331761.956904  , 1216214.04640595,\n",
       "       1291041.03467161, 1101447.9975116 , 1105489.07153151,\n",
       "       1326254.2554517 , 1255757.97853345, 1265264.30765702,\n",
       "        543978.16306551, 1149476.9069945 , 1142766.13325217,\n",
       "       1287210.27549387, 1307191.67627052, 1551449.60128479,\n",
       "       1217151.60743777, 1483635.83539924, 1213300.12148036,\n",
       "       1310647.1686765 , 1327327.68372427, 1305174.61798512,\n",
       "       1393185.61670606, 1209387.35606479, 1354933.94009193,\n",
       "       1358200.43479895, 1424895.29457059, 1465768.60204164,\n",
       "       1327546.98879703, 1765116.8299517 , 1140390.34856974,\n",
       "       1114524.70513123,  859704.12727691, 1354332.29879426,\n",
       "       1290573.2787724 , 1143053.51262609, 1334721.65312981,\n",
       "       1135011.51050529, 1254810.84241554, 1486118.3574765 ,\n",
       "       1447818.7478948 , 1344463.12209406,  957606.54143882,\n",
       "       1501036.29874034, 1453092.6955556 , 1437332.11367882,\n",
       "       1656093.62107733, 1463910.86396778, 1163854.57514786,\n",
       "       1330290.10629561, 1184503.28870234, 1143169.20796999,\n",
       "        943400.53845053, 1034522.57656811,  931774.19307566,\n",
       "       1166982.69022489,  850218.19425675, 1467101.36425397,\n",
       "       1356649.17652285, 1079187.31282041, 1142240.49024524,\n",
       "        859290.47102647, 1151955.47491015, 1321238.32619463,\n",
       "       1084452.14410235, 1272449.46505497, 1326020.13305778,\n",
       "       1338755.30999718, 1555135.92273391, 1592864.38944954,\n",
       "       1277272.27615122, 1192175.95809449, 1071934.72095469,\n",
       "       1202069.5302071 , 1230494.98109896, 1453858.58744666,\n",
       "       1497904.7868443 , 1164642.22920327, 1331927.72460912,\n",
       "       1380238.08452938,  964446.09277342, 1065688.41291864,\n",
       "       1311767.82510423, 1681736.72473541, 1231460.78947137,\n",
       "       1104828.27463165, 1162160.12093099, 1153678.11651698,\n",
       "       1422348.3938039 , 1551053.54800143,  958908.89382702,\n",
       "       1516682.34110132, 1411337.57871946, 1245174.33785015,\n",
       "       1008065.54653191, 1195549.05937723,  880764.49992212,\n",
       "       1384339.73355807,  994319.71042891,  817978.51460962,\n",
       "       1219148.31239079, 1187800.37355258, 1002510.93324984,\n",
       "       1051589.89962925, 1861661.95643901, 1285994.18235574,\n",
       "       1051686.1967731 , 1329621.85222868,  873237.64767925,\n",
       "        636246.42368112, 1126904.21449816, 1346301.92215475,\n",
       "       1011936.64483767, 1227613.42752505, 1117717.97728057,\n",
       "       1014957.96697331, 1281327.54170188, 1562714.01272961,\n",
       "       1326636.01127885,  765640.4815261 , 1405838.24555078,\n",
       "       1356372.2336761 , 1615155.41676514, 1334407.60160773,\n",
       "       1467066.80683641, 1344592.22865916, 1506141.65459709,\n",
       "       1515696.79212637,  983810.03000354, 1336636.85507037,\n",
       "       1207413.062672  , 1442773.62882642,  984184.2745018 ,\n",
       "       1028839.46106626, 1114385.23145524, 1078095.85085204,\n",
       "       1279746.47681038,  928691.72935743, 1247254.43378704,\n",
       "       1144499.51613622, 1427169.85356529, 1204151.74875662,\n",
       "       1139371.0766117 , 1254924.96748812, 1634717.57968295,\n",
       "       1097287.7847843 , 1476615.06746285, 1120911.71257689,\n",
       "       1229947.81227194, 1279920.02144037, 1038277.8850671 ,\n",
       "        909316.64782309, 1043521.29352887,  734703.73070242,\n",
       "       1408332.152144  , 1081661.70875026, 1070229.80919509,\n",
       "       1656762.87486658, 1291505.10470781, 1465529.55378037,\n",
       "       1640079.06395005, 1502922.15202932, 1406108.89320484,\n",
       "       1271966.1691713 , 1252699.19371167, 1221234.7075479 ,\n",
       "       1145586.53724345, 1639114.64222029, 1273894.95357563,\n",
       "       1316849.68550402, 1466234.65237475,  976258.44500831,\n",
       "        883132.40258314, 1517830.02158651,  907363.34600346,\n",
       "       1202889.17283584, 1293173.80711893, 1071048.86907175,\n",
       "       1247921.78812099, 1335330.50587539, 1241336.31821417,\n",
       "       1471756.93735693, 1050027.78366186, 1247972.77526919,\n",
       "        947616.01901347, 1412770.47769343, 1384958.96742416,\n",
       "       1442979.79017673, 1002070.36875236, 1017143.24230838,\n",
       "       1235962.71299117, 1129084.34680846, 1510003.04054105,\n",
       "        867561.78281604, 1170773.49273277, 1262195.13058332,\n",
       "       1258881.52344743,  640049.55544763, 1251381.61101399,\n",
       "       1139981.03377212, 1531152.52855729,  619971.02906678,\n",
       "       1213110.56594858])"
      ]
     },
     "execution_count": 13,
     "metadata": {},
     "output_type": "execute_result"
    }
   ],
   "source": [
    "preds"
   ]
  },
  {
   "cell_type": "code",
   "execution_count": 14,
   "id": "c3d28d2e",
   "metadata": {},
   "outputs": [],
   "source": [
    "residuals = preds - y_test"
   ]
  },
  {
   "cell_type": "code",
   "execution_count": 15,
   "id": "eb092afe",
   "metadata": {},
   "outputs": [
    {
     "data": {
      "text/plain": [
       "(array([  1.,   7.,  42., 130., 229., 259., 205., 100.,  22.,   5.]),\n",
       " array([-982595.52455808, -797484.44426883, -612373.36397957,\n",
       "        -427262.28369032, -242151.20340106,  -57040.12311181,\n",
       "         128070.95717745,  313182.0374667 ,  498293.11775596,\n",
       "         683404.19804521,  868515.27833447]),\n",
       " <BarContainer object of 10 artists>)"
      ]
     },
     "execution_count": 15,
     "metadata": {},
     "output_type": "execute_result"
    },
    {
     "data": {
      "image/png": "[encoded data removed]",
      "text/plain": [
       "<Figure size 432x288 with 1 Axes>"
      ]
     },
     "metadata": {
      "needs_background": "light"
     },
     "output_type": "display_data"
    }
   ],
   "source": [
    "plt.hist(residuals)"
   ]
  },
  {
   "cell_type": "code",
   "execution_count": 16,
   "id": "fe260d22",
   "metadata": {},
   "outputs": [
    {
     "data": {
      "text/plain": [
       "264833.8451132661"
      ]
     },
     "execution_count": 16,
     "metadata": {},
     "output_type": "execute_result"
    }
   ],
   "source": [
    "mean_squared_error(y_test, preds) ** 0.5"
   ]
  },
  {
   "cell_type": "markdown",
   "id": "6ace30d8",
   "metadata": {},
   "source": [
    "The overall mean squared error should be 277491.8044424242 or ~277491.8."
   ]
  },
  {
   "cell_type": "markdown",
   "id": "4d385ad2",
   "metadata": {},
   "source": [
    "# Submitted By : <a href=\"https://www.linkedin.com/in/saurabh-satapathy-692a6a1b9\">Saurabh Satapathy</a>"
   ]
  }
 ],
 "metadata": {
  "kernelspec": {
   "display_name": "Python 3",
   "language": "python",
   "name": "python3"
  },
  "language_info": {
   "codemirror_mode": {
    "name": "ipython",
    "version": 3
   },
   "file_extension": ".py",
   "mimetype": "text/x-python",
   "name": "python",
   "nbconvert_exporter": "python",
   "pygments_lexer": "ipython3",
   "version": "3.8.8"
  }
 },
 "nbformat": 4,
 "nbformat_minor": 5
}
